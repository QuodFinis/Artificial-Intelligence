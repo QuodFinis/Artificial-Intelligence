{
 "cells": [
  {
   "cell_type": "code",
   "execution_count": 2,
   "metadata": {
    "collapsed": false,
    "jupyter": {
     "outputs_hidden": false
    }
   },
   "outputs": [],
   "source": [
    "from collections import Counter, defaultdict\n",
    "\n",
    "# ingest and preprocess train/dev/test data\n",
    "def ingest(filename):\n",
    "    data = []  # Initialize list to store data\n",
    "    words = Counter()  # Initialize counter to count word frequency\n",
    "\n",
    "    with open(filename, 'r') as file:\n",
    "        for line in file:\n",
    "            # remove leading/trailing whitespaces, convert to lowercase, and wrap with <s> and </s> tokens\n",
    "            sentence = f\"<s> {line.lower()} </s>\".split()\n",
    "            data.append(sentence) # append sentence to data list as a list of words\n",
    "            words.update(sentence) # update word frequency counter\n",
    "\n",
    "    return data, words\n",
    "\n",
    "def preprocess_train(training_file):\n",
    "    data, words = ingest(training_file)\n",
    "    # replace all words that appear only once with <unk> token\n",
    "    data = [[word if words[word] > 1 else \"<unk>\" for word in sentence] for sentence in data]\n",
    "    # update word frequency counter with <unk> token and remove words that appear only once\n",
    "    words = Counter(word for sentence in data for word in sentence)\n",
    "\n",
    "    return data, words\n",
    "\n",
    "def preprocess_dev_test(dev_test_file, words):\n",
    "    data, _ = ingest(dev_test_file)\n",
    "    # replace all words that are not in training data with <unk> token\n",
    "    data = [[word if word in words else \"<unk>\" for word in sentence] for sentence in data]\n",
    "\n",
    "    return data\n",
    "\n",
    "train, train_words = preprocess_train('data/brown.train.txt')\n",
    "dev = preprocess_dev_test('data/brown.dev.txt',train_words)\n",
    "test = preprocess_dev_test('data/brown.test.txt', train_words)"
   ]
  },
  {
   "cell_type": "code",
   "execution_count": 6,
   "metadata": {},
   "outputs": [],
   "source": [
    "import pickle\n",
    "import os\n",
    "\n",
    "def save_model(model, filename):\n",
    "    with open(filename, 'wb') as file:  # 'wb' denotes write-binary mode\n",
    "        pickle.dump(model, file)\n",
    "    print(f\"Model saved to {filename}\")\n",
    "\n",
    "def load_model(filename):\n",
    "    with open(filename, 'rb') as file:  # 'rb' denotes read-binary mode\n",
    "        model = pickle.load(file)\n",
    "    return model"
   ]
  },
  {
   "cell_type": "code",
   "execution_count": 7,
   "outputs": [
    {
     "name": "stdout",
     "output_type": "stream",
     "text": [
      "Model saved to unigram_model.pkl\n"
     ]
    }
   ],
   "source": [
    "# unigram maximum likelihood model\n",
    "def unigram(data, word_counts):\n",
    "    words = [word for sentence in data for word in sentence] # Flatten the list of sentences into a list of words\n",
    "    total_words = len(words)    # Calculate the total number of words\n",
    "    model = {word: count / total_words for word, count in word_counts.items()} # Calculate the probability of each word\n",
    "\n",
    "    return model\n",
    "\n",
    "if os.path.exists(\"unigram_model.pkl\"):\n",
    "    unigram_model = load_model(\"unigram_model.pkl\")\n",
    "else:\n",
    "    unigram_model = unigram(train, train_words)\n",
    "    save_model(unigram_model, \"unigram_model.pkl\")"
   ],
   "metadata": {
    "collapsed": false
   }
  },
  {
   "cell_type": "code",
   "execution_count": 8,
   "metadata": {
    "collapsed": false,
    "jupyter": {
     "outputs_hidden": false
    }
   },
   "outputs": [],
   "source": [
    "# bigram maximum likelihood model\n",
    "def bigram(data):\n",
    "    model = defaultdict(Counter)  # Initialize a default dictionary to store bigram counts\n",
    "\n",
    "    for sentence in data:\n",
    "        for w1, w2 in zip(sentence[:-1], sentence[1:]):\n",
    "            model[w1][w2] += 1\n",
    "\n",
    "    # Convert counts to probabilities\n",
    "    for w1 in model:\n",
    "        total_count = float(sum(model[w1].values()))\n",
    "        for w2 in model[w1]:\n",
    "            model[w1][w2] /= total_count\n",
    "\n",
    "    return model\n",
    "    \n",
    "if os.path.exists(\"bigram_model.pkl\"):\n",
    "    bigram_model = load_model(\"bigram_model.pkl\")\n",
    "else:\n",
    "    bigram_model = bigram(train)\n",
    "    save_model(bigram_model, \"bigram_model.pkl\")"
   ]
  },
  {
   "cell_type": "code",
   "execution_count": 6,
   "metadata": {
    "collapsed": false,
    "jupyter": {
     "outputs_hidden": false
    }
   },
   "outputs": [
    {
     "ename": "MemoryError",
     "evalue": "",
     "output_type": "error",
     "traceback": [
      "\u001B[1;31m---------------------------------------------------------------------------\u001B[0m",
      "\u001B[1;31mMemoryError\u001B[0m                               Traceback (most recent call last)",
      "Cell \u001B[1;32mIn[6], line 24\u001B[0m\n\u001B[0;32m     22\u001B[0m \u001B[38;5;28;01melse\u001B[39;00m:\n\u001B[0;32m     23\u001B[0m     bigram_model_with_smoothing \u001B[38;5;241m=\u001B[39m bigram_add1(train)\n\u001B[1;32m---> 24\u001B[0m     \u001B[43msave_model\u001B[49m\u001B[43m(\u001B[49m\u001B[43mbigram_model_with_smoothing\u001B[49m\u001B[43m,\u001B[49m\u001B[43m \u001B[49m\u001B[38;5;124;43m\"\u001B[39;49m\u001B[38;5;124;43mbigram_model_with_smoothing.pkl\u001B[39;49m\u001B[38;5;124;43m\"\u001B[39;49m\u001B[43m)\u001B[49m\n",
      "Cell \u001B[1;32mIn[4], line 6\u001B[0m, in \u001B[0;36msave_model\u001B[1;34m(model, filename)\u001B[0m\n\u001B[0;32m      4\u001B[0m \u001B[38;5;28;01mdef\u001B[39;00m \u001B[38;5;21msave_model\u001B[39m(model, filename):\n\u001B[0;32m      5\u001B[0m     \u001B[38;5;28;01mwith\u001B[39;00m \u001B[38;5;28mopen\u001B[39m(filename, \u001B[38;5;124m'\u001B[39m\u001B[38;5;124mwb\u001B[39m\u001B[38;5;124m'\u001B[39m) \u001B[38;5;28;01mas\u001B[39;00m file:  \u001B[38;5;66;03m# 'wb' denotes write-binary mode\u001B[39;00m\n\u001B[1;32m----> 6\u001B[0m         \u001B[43mpickle\u001B[49m\u001B[38;5;241;43m.\u001B[39;49m\u001B[43mdump\u001B[49m\u001B[43m(\u001B[49m\u001B[43mmodel\u001B[49m\u001B[43m,\u001B[49m\u001B[43m \u001B[49m\u001B[43mfile\u001B[49m\u001B[43m)\u001B[49m\n\u001B[0;32m      7\u001B[0m     \u001B[38;5;28mprint\u001B[39m(\u001B[38;5;124mf\u001B[39m\u001B[38;5;124m\"\u001B[39m\u001B[38;5;124mModel saved to \u001B[39m\u001B[38;5;132;01m{\u001B[39;00mfilename\u001B[38;5;132;01m}\u001B[39;00m\u001B[38;5;124m\"\u001B[39m)\n",
      "File \u001B[1;32m~\\AppData\\Local\\Programs\\Python\\Python311\\Lib\\collections\\__init__.py:726\u001B[0m, in \u001B[0;36mCounter.__reduce__\u001B[1;34m(self)\u001B[0m\n\u001B[0;32m    725\u001B[0m \u001B[38;5;28;01mdef\u001B[39;00m \u001B[38;5;21m__reduce__\u001B[39m(\u001B[38;5;28mself\u001B[39m):\n\u001B[1;32m--> 726\u001B[0m     \u001B[38;5;28;01mreturn\u001B[39;00m \u001B[38;5;28mself\u001B[39m\u001B[38;5;241m.\u001B[39m\u001B[38;5;18m__class__\u001B[39m, (\u001B[38;5;28mdict\u001B[39m(\u001B[38;5;28mself\u001B[39m),)\n",
      "\u001B[1;31mMemoryError\u001B[0m: "
     ]
    }
   ],
   "source": [
    "def bigram_add1(data):\n",
    "    model = defaultdict(Counter)  # Initialize a default dictionary to store bigram counts\n",
    "\n",
    "    for sentence in data:\n",
    "        for w1, w2 in zip(sentence[:-1], sentence[1:]):\n",
    "            model[w1][w2] += 1\n",
    "\n",
    "    # Collect all unique words in data to form the vocabulary\n",
    "    vocabulary = set(word for sentence in data for word in sentence)\n",
    "    vocab_size = len(vocabulary)  # Size of the vocabulary\n",
    "\n",
    "    # Apply add-one smoothing\n",
    "    for w1 in model.keys():\n",
    "        total_count = sum(model[w1].values()) + vocab_size  # Adjust total count for smoothing\n",
    "        for w2 in vocabulary:\n",
    "            model[w1][w2] = (model[w1].get(w2, 0) + 1) / total_count\n",
    "\n",
    "    return model\n",
    "\n",
    "if os.path.exists(\"bigram_model_with_smoothing.pkl\"):\n",
    "    bigram_model_with_smoothing = load_model(\"bigram_model_with_smoothing.pkl\")\n",
    "else:\n",
    "    bigram_model_with_smoothing = bigram_add1(train)\n",
    "    save_model(bigram_model_with_smoothing, \"bigram_model_with_smoothing.pkl\")"
   ]
  },
  {
   "cell_type": "code",
   "execution_count": null,
   "metadata": {},
   "outputs": [],
   "source": [
    "def bigram_discount(data):\n",
    "    model = defaultdict(Counter)\n",
    "    total_unigrams = Counter()\n",
    "\n",
    "    # Count bigrams and unigrams\n",
    "    for sentence in data:\n",
    "        for w1, w2 in zip(sentence[:-1], sentence[1:]):\n",
    "            model[w1][w2] += 1\n",
    "            total_unigrams[w1] += 1\n",
    "\n",
    "    # Total count of all words in the dataset for backoff unigram probabilities\n",
    "    total_words = sum(total_unigrams.values())\n",
    "\n",
    "    # Apply discounting with a backoff to unigram probabilities\n",
    "    bigram_discounted = defaultdict(dict)\n",
    "    for w1 in model.keys():\n",
    "        total_count_w1 = total_unigrams[w1]\n",
    "        bigram_discounted[w1] = defaultdict(float)\n",
    "\n",
    "        # Calculate bigram probabilities with discounting\n",
    "        for w2 in model[w1]:\n",
    "            bigram_discounted[w1][w2] = (model[w1][w2] - 0.5) / total_count_w1\n",
    "\n",
    "        # Add backoff to unigrams if necessary\n",
    "        sum_prob = sum(bigram_discounted[w1].values())\n",
    "        if sum_prob < 1.0:\n",
    "            # Distribute remaining probability based on unigram distribution\n",
    "            remaining_prob = 1.0 - sum_prob\n",
    "            for w2 in total_unigrams:\n",
    "                bigram_discounted[w1][w2] += remaining_prob * (total_unigrams[w2] / total_words)\n",
    "\n",
    "    return bigram_discounted\n",
    "\n",
    "if os.path.exists(\"bigram_model_discounted.pkl\"):\n",
    "    bigram_model_discounted = load_model(\"bigram_model_discounted.pkl\")\n",
    "else:\n",
    "    bigram_model_discounted = bigram_discount(train)\n",
    "    save_model(bigram_model_discounted, \"bigram_model_discounted.pkl\")"
   ]
  },
  {
   "cell_type": "code",
   "execution_count": null,
   "metadata": {},
   "outputs": [],
   "source": [
    "def count_types_tokens(data):\n",
    "    # Flatten list to count all word occurrences\n",
    "    all_words = [word for sentence in data for word in sentence]\n",
    "    word_types = set(all_words)\n",
    "    word_tokens = len(all_words)\n",
    "\n",
    "    return len(word_types), word_tokens\n",
    "\n",
    "train_types, train_tokens = count_types_tokens(train)\n",
    "print(f\"Unique word types (including '<unk>', '<s>', '</s>'): {train_types}\")\n",
    "print(f\"Total word tokens: {train_tokens}\")"
   ]
  },
  {
   "cell_type": "code",
   "execution_count": null,
   "metadata": {},
   "outputs": [],
   "source": [
    "def unseen_percentage(train_data, test_data):\n",
    "    train_words = set(word for sentence in train_data for word in sentence)\n",
    "    test_words = [word for sentence in test_data for word in sentence]\n",
    "\n",
    "    unseen_tokens = sum(1 for word in test_words if word not in train_words)\n",
    "    unseen_types = len(set(test_words) - train_words)\n",
    "\n",
    "    token_percentage = unseen_tokens / len(test_words) * 100\n",
    "    type_percentage = unseen_types / len(set(test_words)) * 100\n",
    "\n",
    "    return token_percentage, type_percentage\n",
    "\n",
    "test_token_percentage, test_type_percentage = unseen_percentage(train, test)\n",
    "print(f\"Percentage of unseen tokens in test data: {test_token_percentage:.2f}%\")\n",
    "print(f\"Percentage of unseen types in test data: {test_type_percentage:.2f}%\")"
   ]
  },
  {
   "cell_type": "code",
   "execution_count": null,
   "metadata": {},
   "outputs": [],
   "source": [
    "import math\n",
    "\n",
    "def log_probability(sentence, model):\n",
    "    tokens = sentence.lower().split()\n",
    "    log_prob = 0\n",
    "    for i in range(len(tokens) - 1):\n",
    "        pair = (tokens[i], tokens[i+1])\n",
    "        if pair in model:\n",
    "            prob = model[pair]\n",
    "            log_prob += math.log(prob)\n",
    "        else:\n",
    "            log_prob += math.log(1e-10)  # Small constant to avoid log(0)\n",
    "\n",
    "    return log_prob\n",
    "\n",
    "sentence = \"<s> he was laughed off the screen . </s>\"\n",
    "log_prob = log_probability(sentence, bigram_model_with_smoothing)\n",
    "print(f\"Log probability of the sentence: {log_prob}\")"
   ]
  },
  {
   "cell_type": "code",
   "execution_count": null,
   "metadata": {},
   "outputs": [],
   "source": [
    "def perplexity(sentence, model):\n",
    "    log_prob = log_probability(sentence, model)\n",
    "    num_words = len(sentence.split()) - 1  # subtract one for the start symbol\n",
    "    return math.exp(-log_prob / num_words)\n",
    "\n",
    "sentence_perplexity = perplexity(sentence, bigram_model_with_smoothing)\n",
    "print(f\"Perplexity of the sentence: {sentence_perplexity}\")"
   ]
  }
 ],
 "metadata": {
  "kernelspec": {
   "display_name": "Python 3 (ipykernel)",
   "language": "python",
   "name": "python3"
  },
  "language_info": {
   "codemirror_mode": {
    "name": "ipython",
    "version": 3
   },
   "file_extension": ".py",
   "mimetype": "text/x-python",
   "name": "python",
   "nbconvert_exporter": "python",
   "pygments_lexer": "ipython3",
   "version": "3.11.5"
  }
 },
 "nbformat": 4,
 "nbformat_minor": 4
}
