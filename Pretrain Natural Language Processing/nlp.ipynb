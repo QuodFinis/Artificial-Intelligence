{
 "cells": [
  {
   "cell_type": "code",
   "execution_count": 7,
   "outputs": [],
   "source": [
    "import collections\n",
    "\n",
    "# ingest and preprocess train/dev/test data\n",
    "def ingest(filename):\n",
    "    data = []\n",
    "    words = collections.Counter()  # Initialize counter to count word frequency\n",
    "\n",
    "    with open(filename, 'r') as file:\n",
    "        for line in file:\n",
    "            sentence = line.strip().lower().split()  # remove leading/trailing whitespaces, convert to lowercase, and split into tokens\n",
    "            data.append(sentence)\n",
    "            words.update(sentence)\n",
    "\n",
    "    data = [sentence for sentence in data if sentence]  # remove empty sentences\n",
    "    del words['']  # remove empty string from word counter\n",
    "\n",
    "    return data, words\n",
    "\n",
    "def preprocess_train(training_file):\n",
    "    data, words = ingest(training_file)\n",
    "    # replace all words that appear only once with <unk> token\n",
    "    data = [['<unk>' if words[word] == 1 else word for word in sentence] for sentence in data]\n",
    "\n",
    "    return data, words\n",
    "\n",
    "def preprocess_dev_test(dev_test_file, words):\n",
    "    data, _ = ingest(dev_test_file)\n",
    "    # replace all words that are not in training data with <unk> token\n",
    "    data = [['<unk>' if word not in words else word for word in sentence] for sentence in data]\n",
    "\n",
    "    return data\n",
    "\n",
    "train, train_words = preprocess_train('data/brown.train.txt')\n",
    "dev = preprocess_dev_test('data/brown.dev.txt',train_words)\n",
    "test = preprocess_dev_test('data/brown.test.txt', train_words)"
   ],
   "metadata": {
    "collapsed": false
   }
  }
 ],
 "metadata": {
  "kernelspec": {
   "display_name": "Python 3",
   "language": "python",
   "name": "python3"
  },
  "language_info": {
   "codemirror_mode": {
    "name": "ipython",
    "version": 2
   },
   "file_extension": ".py",
   "mimetype": "text/x-python",
   "name": "python",
   "nbconvert_exporter": "python",
   "pygments_lexer": "ipython2",
   "version": "2.7.6"
  }
 },
 "nbformat": 4,
 "nbformat_minor": 0
}
