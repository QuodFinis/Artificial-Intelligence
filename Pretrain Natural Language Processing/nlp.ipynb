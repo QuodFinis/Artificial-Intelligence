{
 "cells": [
  {
   "cell_type": "code",
   "execution_count": 1,
   "metadata": {
    "collapsed": false,
    "jupyter": {
     "outputs_hidden": false
    }
   },
   "outputs": [],
   "source": [
    "from collections import Counter, defaultdict\n",
    "\n",
    "# ingest and preprocess train/dev/test data\n",
    "def ingest(filename):\n",
    "    data = []  # Initialize list to store data\n",
    "    words = Counter()  # Initialize counter to count word frequency\n",
    "\n",
    "    with open(filename, 'r') as file:\n",
    "        for line in file:\n",
    "            # remove leading/trailing whitespaces, convert to lowercase, and wrap with <s> and </s> tokens\n",
    "            sentence = f\"<s> {line.lower()} </s>\".split()\n",
    "            data.append(sentence) # append sentence to data list as a list of words\n",
    "            words.update(sentence) # update word frequency counter\n",
    "\n",
    "    return data, words\n",
    "\n",
    "def preprocess_train(training_file):\n",
    "    data, words = ingest(training_file)\n",
    "    # replace all words that appear only once with <unk> token\n",
    "    data = [[word if words[word] > 1 else \"<unk>\" for word in sentence] for sentence in data]\n",
    "    # update word frequency counter with <unk> token and remove words that appear only once\n",
    "    words = Counter(word for sentence in data for word in sentence)\n",
    "\n",
    "    return data, words\n",
    "\n",
    "def preprocess_dev_test(dev_test_file, words):\n",
    "    data, _ = ingest(dev_test_file)\n",
    "    # replace all words that are not in training data with <unk> token\n",
    "    data = [[word if word in words else \"<unk>\" for word in sentence] for sentence in data]\n",
    "\n",
    "    return data\n",
    "\n",
    "train, train_words = preprocess_train('data/brown.train.txt')\n",
    "dev = preprocess_dev_test('data/brown.dev.txt',train_words)\n",
    "test = preprocess_dev_test('data/brown.test.txt', train_words)"
   ]
  },
  {
   "cell_type": "code",
   "execution_count": 2,
   "metadata": {},
   "outputs": [],
   "source": [
    "import pickle\n",
    "import os\n",
    "\n",
    "def save_model(model, filename):\n",
    "    with open(filename, 'wb') as file:  # 'wb' denotes write-binary mode\n",
    "        pickle.dump(model, file)\n",
    "    print(f\"Model saved to {filename}\")\n",
    "\n",
    "def load_model(filename):\n",
    "    with open(filename, 'rb') as file:  # 'rb' denotes read-binary mode\n",
    "        model = pickle.load(file)\n",
    "    return model"
   ]
  },
  {
   "cell_type": "code",
   "execution_count": 3,
   "metadata": {
    "collapsed": false,
    "jupyter": {
     "outputs_hidden": false
    }
   },
   "outputs": [],
   "source": [
    "# unigram maximum likelihood model\n",
    "def unigram(data, word_counts):\n",
    "    words = [word for sentence in data for word in sentence] # Flatten the list of sentences into a list of words\n",
    "    total_words = len(words)    # Calculate the total number of words\n",
    "    model = {word: count / total_words for word, count in word_counts.items()} # Calculate the probability of each word\n",
    "\n",
    "    return model\n",
    "\n",
    "if os.path.exists(\"unigram_model.pkl\"):\n",
    "    unigram_model = load_model(\"unigram_model.pkl\")\n",
    "else:\n",
    "    unigram_model = unigram(train, train_words)\n",
    "    save_model(unigram_model, \"unigram_model.pkl\")"
   ]
  },
  {
   "cell_type": "code",
   "execution_count": 4,
   "metadata": {
    "collapsed": false,
    "jupyter": {
     "outputs_hidden": false
    }
   },
   "outputs": [],
   "source": [
    "# bigram maximum likelihood model\n",
    "def bigram(data):\n",
    "    model = defaultdict(Counter)  # Initialize a default dictionary to store bigram counts\n",
    "\n",
    "    for sentence in data:\n",
    "        for w1, w2 in zip(sentence[:-1], sentence[1:]):\n",
    "            model[w1][w2] += 1\n",
    "\n",
    "    # Convert counts to probabilities\n",
    "    for w1 in model:\n",
    "        total_count = float(sum(model[w1].values()))\n",
    "        for w2 in model[w1]:\n",
    "            model[w1][w2] /= total_count\n",
    "\n",
    "    return model\n",
    "    \n",
    "if os.path.exists(\"bigram_model.pkl\"):\n",
    "    bigram_model = load_model(\"bigram_model.pkl\")\n",
    "else:\n",
    "    bigram_model = bigram(train)\n",
    "    save_model(bigram_model, \"bigram_model.pkl\")"
   ]
  },
  {
   "cell_type": "code",
   "execution_count": 5,
   "metadata": {
    "collapsed": false,
    "jupyter": {
     "outputs_hidden": false
    }
   },
   "outputs": [],
   "source": [
    "def bigram_add1(data, unigram_model):\n",
    "    V = len(unigram_model)  # Vocabulary size\n",
    "    model = defaultdict(Counter)  # Initialize a default dictionary to store bigram probabilities\n",
    "\n",
    "    for sentence in data:\n",
    "        for w1, w2 in zip(sentence[:-1], sentence[1:]):\n",
    "            model[w1][w2] += 1\n",
    "\n",
    "    # Apply add-one smoothing\n",
    "    for w1 in model:\n",
    "        total_count = float(sum(model[w1].values()))\n",
    "        for w2 in model[w1]:\n",
    "            model[w1][w2] = (model[w1][w2] + 1) / (total_count + V)\n",
    "\n",
    "    return model\n",
    "\n",
    "if os.path.exists(\"bigram_model_with_smoothing.pkl\"):\n",
    "    bigram_model_with_smoothing = load_model(\"bigram_model_with_smoothing.pkl\")\n",
    "else:\n",
    "    bigram_model_with_smoothing = bigram_add1(train, unigram_model)\n",
    "    save_model(bigram_model_with_smoothing, \"bigram_model_with_smoothing.pkl\")"
   ]
  },
  {
   "cell_type": "code",
   "execution_count": 6,
   "metadata": {},
   "outputs": [],
   "source": [
    "def bigram_katz_backoff_discounting(data, unigram_model, add1_bigram_model, discount=0.5):\n",
    "    model = defaultdict(Counter)  # Initialize a default dictionary to store bigram counts\n",
    "\n",
    "    for sentence in data:\n",
    "        for w1, w2 in zip(sentence[:-1], sentence[1:]):\n",
    "            if w1 in add1_bigram_model and w2 in add1_bigram_model[w1]:\n",
    "                # If the bigram is present in the add1_bigram_model, use it\n",
    "                model[w1][w2] = add1_bigram_model[w1][w2]\n",
    "            else:\n",
    "                # If not, back off to unigram probabilities\n",
    "                model[w1][w2] = unigram_model[w2]\n",
    "\n",
    "    # Apply Katz backoff and discounting\n",
    "    for w1 in model:\n",
    "        total_count = float(sum(model[w1].values()))\n",
    "        unseen_count = len(unigram_model) - len(model[w1])  # Number of unseen bigrams\n",
    "        for w2 in model[w1]:\n",
    "            model[w1][w2] = (max(model[w1][w2] - discount, 0) / total_count) + (discount * (unseen_count / total_count))\n",
    "\n",
    "    return model\n",
    "\n",
    "if os.path.exists(\"katz_backoff_model.pkl\"):\n",
    "    katz_backoff_model = load_model(\"katz_backoff_model.pkl\")\n",
    "else:\n",
    "    katz_backoff_model = bigram_katz_backoff_discounting(train, unigram_model, bigram_model_with_smoothing)\n",
    "    save_model(katz_backoff_model, \"katz_backoff_model.pkl\")"
   ]
  },
  {
   "cell_type": "code",
   "execution_count": 7,
   "metadata": {},
   "outputs": [
    {
     "name": "stdout",
     "output_type": "stream",
     "text": [
      "False\n",
      "False\n",
      "False\n"
     ]
    }
   ],
   "source": [
    "print(bigram_model == bigram_model_with_smoothing)\n",
    "print(bigram_model == katz_backoff_model)\n",
    "print(bigram_model_with_smoothing == katz_backoff_model)"
   ]
  },
  {
   "cell_type": "code",
   "execution_count": 8,
   "metadata": {},
   "outputs": [
    {
     "name": "stdout",
     "output_type": "stream",
     "text": [
      "Unique word types (including '<unk>', '<s>', '</s>'): 24796\n",
      "Total word tokens: 1018784\n"
     ]
    }
   ],
   "source": [
    "def count_types_tokens(data):\n",
    "    # Flatten list to count all word occurrences\n",
    "    all_words = [word for sentence in data for word in sentence]\n",
    "    word_types = set(all_words)\n",
    "    word_tokens = len(all_words)\n",
    "\n",
    "    return len(word_types), word_tokens\n",
    "\n",
    "train_types, train_tokens = count_types_tokens(train)\n",
    "print(f\"Unique word types (including '<unk>', '<s>', '</s>'): {train_types}\")\n",
    "print(f\"Total word tokens: {train_tokens}\")"
   ]
  },
  {
   "cell_type": "code",
   "execution_count": 9,
   "metadata": {},
   "outputs": [
    {
     "name": "stdout",
     "output_type": "stream",
     "text": [
      "Percentage of unseen words in test data: 0.40%\n",
      "Percentage of unseen types in test data: 0.00%\n"
     ]
    }
   ],
   "source": [
    "def unseen_percentage(train_data, test_data):\n",
    "    # Flatten the lists of words in both training and test data\n",
    "    train_words = set(word for sentence in train_data for word in sentence)\n",
    "    test_words = [word for sentence in test_data for word in sentence]\n",
    "\n",
    "    # Count occurrences of \"<unk>\" in the test data\n",
    "    unk_count = sum(1 for word in test_words if word == \"<unk>\")\n",
    "\n",
    "    # Calculate the percentage of unseen words\n",
    "    total_train_words = sum(len(sentence) for sentence in train_data)\n",
    "    percentage_unseen_words = (unk_count / total_train_words) * 100\n",
    "\n",
    "    # Count the number of unseen types\n",
    "    unseen_types = set(word for word in test_words if word not in train_words)\n",
    "    total_train_types = len(set(word for sentence in train_data for word in sentence))\n",
    "    percentage_unseen_types = (len(unseen_types) / total_train_types) * 100\n",
    "\n",
    "    return percentage_unseen_words, percentage_unseen_types\n",
    "\n",
    "# Example usage:\n",
    "percentage_unseen_words, percentage_unseen_types = unseen_percentage(train, test)\n",
    "print(f\"Percentage of unseen words in test data: {percentage_unseen_words:.2f}%\")\n",
    "print(f\"Percentage of unseen types in test data: {percentage_unseen_types:.2f}%\")"
   ]
  },
  {
   "cell_type": "code",
   "execution_count": 10,
   "metadata": {},
   "outputs": [
    {
     "name": "stdout",
     "output_type": "stream",
     "text": [
      "Log probability of the sentence: -184.20680743952363\n",
      "Log probability of the sentence: -184.20680743952363\n",
      "Log probability of the sentence: -184.20680743952363\n"
     ]
    }
   ],
   "source": [
    "import math\n",
    "\n",
    "def log_probability(sentence, model):\n",
    "    tokens = sentence.lower().split()\n",
    "    log_prob = 0\n",
    "    for i in range(len(tokens) - 1):\n",
    "        pair = (tokens[i], tokens[i+1])\n",
    "        if isinstance(model, dict):\n",
    "            # For simple bigram model\n",
    "            if pair in model:\n",
    "                prob = model[pair]\n",
    "                log_prob += math.log(prob)\n",
    "            else:\n",
    "                log_prob += math.log(1e-10)  # Small constant to avoid log(0)\n",
    "        elif isinstance(model, defaultdict):\n",
    "            # For bigram models with smoothing or Katz backoff\n",
    "            w1, w2 = pair\n",
    "            if w1 in model and w2 in model[w1]:\n",
    "                prob = model[w1][w2]\n",
    "                log_prob += math.log(prob)\n",
    "            else:\n",
    "                # Handle unseen bigrams\n",
    "                log_prob += math.log(1e-10)  # Small constant to avoid log(0)\n",
    "        else:\n",
    "            raise ValueError(\"Unsupported model type\")\n",
    "\n",
    "    return log_prob\n",
    "\n",
    "\n",
    "sentence = \"<s> he was laughed off the screen . </s>\"\n",
    "log_prob = log_probability(sentence, bigram_model)\n",
    "print(f\"Log probability of the sentence: {log_prob}\")\n",
    "\n",
    "log_prob = log_probability(sentence, bigram_model_with_smoothing)\n",
    "print(f\"Log probability of the sentence: {log_prob}\")\n",
    "\n",
    "log_prob = log_probability(sentence, katz_backoff_model)\n",
    "print(f\"Log probability of the sentence: {log_prob}\")"
   ]
  },
  {
   "cell_type": "code",
   "execution_count": 11,
   "metadata": {},
   "outputs": [
    {
     "name": "stdout",
     "output_type": "stream",
     "text": [
      "Perplexity of the sentence: 9999999999.999968\n",
      "Perplexity of the sentence: 9999999999.999968\n",
      "Perplexity of the sentence: 9999999999.999968\n"
     ]
    }
   ],
   "source": [
    "def perplexity(sentence, model):\n",
    "    log_prob = log_probability(sentence, model)\n",
    "    num_words = len(sentence.split()) - 1  # subtract one for the start symbol\n",
    "    return math.exp(-log_prob / num_words)\n",
    "\n",
    "sentence_perplexity = perplexity(sentence, bigram_model)\n",
    "print(f\"Perplexity of the sentence: {sentence_perplexity}\")\n",
    "\n",
    "sentence_perplexity = perplexity(sentence, bigram_model_with_smoothing)\n",
    "print(f\"Perplexity of the sentence: {sentence_perplexity}\")\n",
    "\n",
    "sentence_perplexity = perplexity(sentence, katz_backoff_model)\n",
    "print(f\"Perplexity of the sentence: {sentence_perplexity}\")"
   ]
  },
  {
   "cell_type": "code",
   "execution_count": null,
   "metadata": {},
   "outputs": [],
   "source": []
  }
 ],
 "metadata": {
  "kernelspec": {
   "display_name": "Python 3 (ipykernel)",
   "language": "python",
   "name": "python3"
  },
  "language_info": {
   "codemirror_mode": {
    "name": "ipython",
    "version": 3
   },
   "file_extension": ".py",
   "mimetype": "text/x-python",
   "name": "python",
   "nbconvert_exporter": "python",
   "pygments_lexer": "ipython3",
   "version": "3.12.3"
  }
 },
 "nbformat": 4,
 "nbformat_minor": 4
}
