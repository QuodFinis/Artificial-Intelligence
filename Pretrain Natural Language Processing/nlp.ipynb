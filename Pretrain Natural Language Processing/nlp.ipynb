{
 "cells": [
  {
   "cell_type": "code",
   "execution_count": 4,
   "metadata": {
    "collapsed": true
   },
   "outputs": [
    {
     "name": "stdout",
     "output_type": "stream",
     "text": [
      "The Fulton\n",
      "Implementa\n",
      "The jury f\n"
     ]
    }
   ],
   "source": [
    "# ingest train/dev/test data\n",
    "\n",
    "def ingest(filename):\n",
    "    data = ''\n",
    "    with open(filename, 'r') as file: # Open file in read mode ('r')\n",
    "        while True: # Read a chunk of file\n",
    "            chunk = file.read(1024) # Read 1024 bytes at a time to not load whole file into memory\n",
    "            if not chunk:\n",
    "                break # If chunk is empty, reached end of file\n",
    "\n",
    "            data += chunk # Append chunk to data\n",
    "\n",
    "    return data\n",
    "\n",
    "train = ingest('data/brown.train.txt')\n",
    "dev = ingest('data/brown.dev.txt')\n",
    "test = ingest('data/brown.test.txt')\n",
    "\n",
    "print(train[:10])\n",
    "print(dev[:10])\n",
    "print(test[:10])"
   ]
  },
  {
   "cell_type": "code",
   "execution_count": null,
   "outputs": [],
   "source": [],
   "metadata": {
    "collapsed": false
   }
  }
 ],
 "metadata": {
  "kernelspec": {
   "display_name": "Python 3",
   "language": "python",
   "name": "python3"
  },
  "language_info": {
   "codemirror_mode": {
    "name": "ipython",
    "version": 2
   },
   "file_extension": ".py",
   "mimetype": "text/x-python",
   "name": "python",
   "nbconvert_exporter": "python",
   "pygments_lexer": "ipython2",
   "version": "2.7.6"
  }
 },
 "nbformat": 4,
 "nbformat_minor": 0
}
