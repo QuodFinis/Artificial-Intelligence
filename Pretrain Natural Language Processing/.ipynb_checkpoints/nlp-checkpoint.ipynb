{
 "cells": [
  {
   "cell_type": "code",
   "execution_count": 1,
   "metadata": {
    "collapsed": false,
    "jupyter": {
     "outputs_hidden": false
    },
    "pycharm": {
     "is_executing": true
    }
   },
   "outputs": [],
   "source": [
    "from collections import Counter, defaultdict\n",
    "\n",
    "# ingest and preprocess train/dev/test data\n",
    "def ingest(filename):\n",
    "    data = []  # Initialize list to store data\n",
    "    words = Counter()  # Initialize counter to count word frequency\n",
    "\n",
    "    with open(filename, 'r') as file:\n",
    "        for line in file:\n",
    "            # remove leading/trailing whitespaces, convert to lowercase, and wrap with <s> and </s> tokens\n",
    "            sentence = f\"<s> {line.lower()} </s>\".split()\n",
    "            data.append(sentence) # append sentence to data list as a list of words\n",
    "            words.update(sentence) # update word frequency counter\n",
    "\n",
    "    return data, words\n",
    "\n",
    "def preprocess_train(training_file):\n",
    "    data, words = ingest(training_file)\n",
    "    # replace all words that appear only once with <unk> token\n",
    "    data = [[word if words[word] > 1 else \"<unk>\" for word in sentence] for sentence in data]\n",
    "    # update word frequency counter with <unk> token and remove words that appear only once\n",
    "    words = Counter(word for sentence in data for word in sentence)\n",
    "\n",
    "    return data, words\n",
    "\n",
    "def preprocess_dev_test(dev_test_file, words):\n",
    "    data, _ = ingest(dev_test_file)\n",
    "    # replace all words that are not in training data with <unk> token\n",
    "    data = [[word if word in words else \"<unk>\" for word in sentence] for sentence in data]\n",
    "\n",
    "    return data\n",
    "\n",
    "train, train_words = preprocess_train('data/brown.train.txt')\n",
    "dev = preprocess_dev_test('data/brown.dev.txt',train_words)\n",
    "test = preprocess_dev_test('data/brown.test.txt', train_words)"
   ]
  },
  {
   "cell_type": "code",
   "execution_count": 4,
   "metadata": {},
   "outputs": [],
   "source": [
    "import pickle\n",
    "import os\n",
    "\n",
    "def save_model(model, filename):\n",
    "    with open(filename, 'wb') as file:  # 'wb' denotes write-binary mode\n",
    "        pickle.dump(model, file)\n",
    "    print(f\"Model saved to {filename}\")\n",
    "\n",
    "def load_model(filename):\n",
    "    with open(filename, 'rb') as file:  # 'rb' denotes read-binary mode\n",
    "        model = pickle.load(file)\n",
    "    return model"
   ]
  },
  {
   "cell_type": "code",
   "execution_count": 5,
   "metadata": {
    "collapsed": false,
    "jupyter": {
     "outputs_hidden": false
    }
   },
   "outputs": [
    {
     "name": "stdout",
     "output_type": "stream",
     "text": [
      "Model saved to bigram_model.pkl\n"
     ]
    }
   ],
   "source": [
    "# bigram maximum likelihood model\n",
    "def bigram(data):\n",
    "    model = defaultdict(Counter)  # Initialize a default dictionary to store bigram counts\n",
    "\n",
    "    for sentence in data:\n",
    "        for w1, w2 in zip(sentence[:-1], sentence[1:]):\n",
    "            model[w1][w2] += 1\n",
    "\n",
    "    # Convert counts to probabilities\n",
    "    for w1 in model:\n",
    "        total_count = float(sum(model[w1].values()))\n",
    "        for w2 in model[w1]:\n",
    "            model[w1][w2] /= total_count\n",
    "\n",
    "    return model\n",
    "    \n",
    "if os.path.exists(\"bigram_model.pkl\"):\n",
    "    bigram_model = load_model(\"bigram_model.pkl\")\n",
    "else:\n",
    "    bigram_model = bigram(train)\n",
    "    save_model(bigram_model, \"bigram_model.pkl\")"
   ]
  },
  {
   "cell_type": "code",
   "execution_count": null,
   "metadata": {
    "collapsed": false,
    "jupyter": {
     "outputs_hidden": false
    }
   },
   "outputs": [],
   "source": [
    "def bigram_add1(data):\n",
    "    model = defaultdict(Counter)  # Initialize a default dictionary to store bigram counts\n",
    "\n",
    "    for sentence in data:\n",
    "        for w1, w2 in zip(sentence[:-1], sentence[1:]):\n",
    "            model[w1][w2] += 1\n",
    "\n",
    "    # Collect all unique words in data to form the vocabulary\n",
    "    vocabulary = set(word for sentence in data for word in sentence)\n",
    "    vocab_size = len(vocabulary)  # Size of the vocabulary\n",
    "\n",
    "    # Apply add-one smoothing\n",
    "    for w1 in model.keys():\n",
    "        total_count = sum(model[w1].values()) + vocab_size  # Adjust total count for smoothing\n",
    "        for w2 in vocabulary:\n",
    "            model[w1][w2] = (model[w1].get(w2, 0) + 1) / total_count\n",
    "\n",
    "    return model\n",
    "\n",
    "if os.path.exists(\"bigram_model_with_smoothing.pkl\"):\n",
    "    bigram_model_with_smoothing = load_model(\"bigram_model_with_smoothing.pkl\")\n",
    "else:\n",
    "    bigram_model_with_smoothing = bigram_add1(train)\n",
    "    save_model(bigram_model_with_smoothing, \"bigram_model_with_smoothing.pkl\")"
   ]
  }
 ],
 "metadata": {
  "kernelspec": {
   "display_name": "Python 3 (ipykernel)",
   "language": "python",
   "name": "python3"
  },
  "language_info": {
   "codemirror_mode": {
    "name": "ipython",
    "version": 3
   },
   "file_extension": ".py",
   "mimetype": "text/x-python",
   "name": "python",
   "nbconvert_exporter": "python",
   "pygments_lexer": "ipython3",
   "version": "3.11.5"
  }
 },
 "nbformat": 4,
 "nbformat_minor": 4
}
